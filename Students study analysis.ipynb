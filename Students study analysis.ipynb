{
 "cells": [
  {
   "cell_type": "code",
   "execution_count": 1,
   "id": "482aeae2",
   "metadata": {},
   "outputs": [],
   "source": [
    "import pandas as pd\n",
    "import numpy as np\n",
    "import os"
   ]
  },
  {
   "cell_type": "code",
   "execution_count": 2,
   "id": "fe43dd53",
   "metadata": {},
   "outputs": [
    {
     "data": {
      "text/html": [
       "<div>\n",
       "<style scoped>\n",
       "    .dataframe tbody tr th:only-of-type {\n",
       "        vertical-align: middle;\n",
       "    }\n",
       "\n",
       "    .dataframe tbody tr th {\n",
       "        vertical-align: top;\n",
       "    }\n",
       "\n",
       "    .dataframe thead th {\n",
       "        text-align: right;\n",
       "    }\n",
       "</style>\n",
       "<table border=\"1\" class=\"dataframe\">\n",
       "  <thead>\n",
       "    <tr style=\"text-align: right;\">\n",
       "      <th></th>\n",
       "      <th>Name</th>\n",
       "      <th>Date</th>\n",
       "      <th>Day</th>\n",
       "      <th>Marital Status</th>\n",
       "      <th>Your gender?</th>\n",
       "      <th>study hour</th>\n",
       "      <th>your sleep hour?</th>\n",
       "      <th>weekend</th>\n",
       "      <th>what is your age?</th>\n",
       "      <th>what is your cgpa</th>\n",
       "    </tr>\n",
       "  </thead>\n",
       "  <tbody>\n",
       "    <tr>\n",
       "      <th>0</th>\n",
       "      <td>Karim</td>\n",
       "      <td>28/6/2022</td>\n",
       "      <td>Sunday</td>\n",
       "      <td>1.0</td>\n",
       "      <td>1</td>\n",
       "      <td>4.0</td>\n",
       "      <td>6</td>\n",
       "      <td>0</td>\n",
       "      <td>23</td>\n",
       "      <td>3.00 - 3.49</td>\n",
       "    </tr>\n",
       "    <tr>\n",
       "      <th>1</th>\n",
       "      <td>Karim</td>\n",
       "      <td>29/6/2022</td>\n",
       "      <td>Monday</td>\n",
       "      <td>1.0</td>\n",
       "      <td>1</td>\n",
       "      <td>3.0</td>\n",
       "      <td>6</td>\n",
       "      <td>0</td>\n",
       "      <td>23</td>\n",
       "      <td>3.00 - 3.49</td>\n",
       "    </tr>\n",
       "    <tr>\n",
       "      <th>2</th>\n",
       "      <td>Karim</td>\n",
       "      <td>30/6/2022</td>\n",
       "      <td>Tuesday</td>\n",
       "      <td>1.0</td>\n",
       "      <td>1</td>\n",
       "      <td>3.0</td>\n",
       "      <td>7</td>\n",
       "      <td>0</td>\n",
       "      <td>23</td>\n",
       "      <td>3.00 - 3.49</td>\n",
       "    </tr>\n",
       "    <tr>\n",
       "      <th>3</th>\n",
       "      <td>Karim</td>\n",
       "      <td>1/7/2022</td>\n",
       "      <td>Wednesday</td>\n",
       "      <td>1.0</td>\n",
       "      <td>1</td>\n",
       "      <td>2.0</td>\n",
       "      <td>5</td>\n",
       "      <td>0</td>\n",
       "      <td>23</td>\n",
       "      <td>3.00 - 3.49</td>\n",
       "    </tr>\n",
       "    <tr>\n",
       "      <th>4</th>\n",
       "      <td>Karim</td>\n",
       "      <td>2/7/2022</td>\n",
       "      <td>Thursday</td>\n",
       "      <td>1.0</td>\n",
       "      <td>1</td>\n",
       "      <td>5.0</td>\n",
       "      <td>6</td>\n",
       "      <td>0</td>\n",
       "      <td>23</td>\n",
       "      <td>3.00 - 3.49</td>\n",
       "    </tr>\n",
       "  </tbody>\n",
       "</table>\n",
       "</div>"
      ],
      "text/plain": [
       "    Name       Date        Day  Marital Status  Your gender?  study hour  \\\n",
       "0  Karim  28/6/2022     Sunday             1.0             1         4.0   \n",
       "1  Karim  29/6/2022     Monday             1.0             1         3.0   \n",
       "2  Karim  30/6/2022    Tuesday             1.0             1         3.0   \n",
       "3  Karim   1/7/2022  Wednesday             1.0             1         2.0   \n",
       "4  Karim   2/7/2022   Thursday             1.0             1         5.0   \n",
       "\n",
       "   your sleep hour?  weekend  what is your age? what is your cgpa  \n",
       "0                 6        0                 23       3.00 - 3.49  \n",
       "1                 6        0                 23       3.00 - 3.49  \n",
       "2                 7        0                 23       3.00 - 3.49  \n",
       "3                 5        0                 23       3.00 - 3.49  \n",
       "4                 6        0                 23       3.00 - 3.49  "
      ]
     },
     "execution_count": 2,
     "metadata": {},
     "output_type": "execute_result"
    }
   ],
   "source": [
    "df = pd.read_csv('Student Study data.csv')\n",
    "df.head()"
   ]
  },
  {
   "cell_type": "code",
   "execution_count": 3,
   "id": "965dd0ac",
   "metadata": {},
   "outputs": [
    {
     "data": {
      "text/html": [
       "<div>\n",
       "<style scoped>\n",
       "    .dataframe tbody tr th:only-of-type {\n",
       "        vertical-align: middle;\n",
       "    }\n",
       "\n",
       "    .dataframe tbody tr th {\n",
       "        vertical-align: top;\n",
       "    }\n",
       "\n",
       "    .dataframe thead th {\n",
       "        text-align: right;\n",
       "    }\n",
       "</style>\n",
       "<table border=\"1\" class=\"dataframe\">\n",
       "  <thead>\n",
       "    <tr style=\"text-align: right;\">\n",
       "      <th></th>\n",
       "      <th>Marital Status</th>\n",
       "      <th>Your gender?</th>\n",
       "      <th>study hour</th>\n",
       "      <th>your sleep hour?</th>\n",
       "      <th>weekend</th>\n",
       "      <th>what is your age?</th>\n",
       "    </tr>\n",
       "  </thead>\n",
       "  <tbody>\n",
       "    <tr>\n",
       "      <th>count</th>\n",
       "      <td>59.000000</td>\n",
       "      <td>63.000000</td>\n",
       "      <td>62.000000</td>\n",
       "      <td>63.000000</td>\n",
       "      <td>63.000000</td>\n",
       "      <td>63.000000</td>\n",
       "    </tr>\n",
       "    <tr>\n",
       "      <th>mean</th>\n",
       "      <td>1.322034</td>\n",
       "      <td>1.777778</td>\n",
       "      <td>3.241935</td>\n",
       "      <td>6.142857</td>\n",
       "      <td>0.285714</td>\n",
       "      <td>22.444444</td>\n",
       "    </tr>\n",
       "    <tr>\n",
       "      <th>std</th>\n",
       "      <td>0.471267</td>\n",
       "      <td>0.419079</td>\n",
       "      <td>1.363283</td>\n",
       "      <td>0.715207</td>\n",
       "      <td>0.455383</td>\n",
       "      <td>0.963491</td>\n",
       "    </tr>\n",
       "    <tr>\n",
       "      <th>min</th>\n",
       "      <td>1.000000</td>\n",
       "      <td>1.000000</td>\n",
       "      <td>1.000000</td>\n",
       "      <td>5.000000</td>\n",
       "      <td>0.000000</td>\n",
       "      <td>21.000000</td>\n",
       "    </tr>\n",
       "    <tr>\n",
       "      <th>25%</th>\n",
       "      <td>1.000000</td>\n",
       "      <td>2.000000</td>\n",
       "      <td>2.000000</td>\n",
       "      <td>6.000000</td>\n",
       "      <td>0.000000</td>\n",
       "      <td>22.000000</td>\n",
       "    </tr>\n",
       "    <tr>\n",
       "      <th>50%</th>\n",
       "      <td>1.000000</td>\n",
       "      <td>2.000000</td>\n",
       "      <td>3.000000</td>\n",
       "      <td>6.000000</td>\n",
       "      <td>0.000000</td>\n",
       "      <td>23.000000</td>\n",
       "    </tr>\n",
       "    <tr>\n",
       "      <th>75%</th>\n",
       "      <td>2.000000</td>\n",
       "      <td>2.000000</td>\n",
       "      <td>4.000000</td>\n",
       "      <td>7.000000</td>\n",
       "      <td>1.000000</td>\n",
       "      <td>23.000000</td>\n",
       "    </tr>\n",
       "    <tr>\n",
       "      <th>max</th>\n",
       "      <td>2.000000</td>\n",
       "      <td>2.000000</td>\n",
       "      <td>6.000000</td>\n",
       "      <td>8.000000</td>\n",
       "      <td>1.000000</td>\n",
       "      <td>24.000000</td>\n",
       "    </tr>\n",
       "  </tbody>\n",
       "</table>\n",
       "</div>"
      ],
      "text/plain": [
       "       Marital Status  Your gender?  study hour  your sleep hour?    weekend  \\\n",
       "count       59.000000     63.000000   62.000000         63.000000  63.000000   \n",
       "mean         1.322034      1.777778    3.241935          6.142857   0.285714   \n",
       "std          0.471267      0.419079    1.363283          0.715207   0.455383   \n",
       "min          1.000000      1.000000    1.000000          5.000000   0.000000   \n",
       "25%          1.000000      2.000000    2.000000          6.000000   0.000000   \n",
       "50%          1.000000      2.000000    3.000000          6.000000   0.000000   \n",
       "75%          2.000000      2.000000    4.000000          7.000000   1.000000   \n",
       "max          2.000000      2.000000    6.000000          8.000000   1.000000   \n",
       "\n",
       "       what is your age?  \n",
       "count          63.000000  \n",
       "mean           22.444444  \n",
       "std             0.963491  \n",
       "min            21.000000  \n",
       "25%            22.000000  \n",
       "50%            23.000000  \n",
       "75%            23.000000  \n",
       "max            24.000000  "
      ]
     },
     "execution_count": 3,
     "metadata": {},
     "output_type": "execute_result"
    }
   ],
   "source": [
    "df.describe()"
   ]
  },
  {
   "cell_type": "code",
   "execution_count": 4,
   "id": "9869d0d6",
   "metadata": {},
   "outputs": [
    {
     "name": "stdout",
     "output_type": "stream",
     "text": [
      "<class 'pandas.core.frame.DataFrame'>\n",
      "RangeIndex: 63 entries, 0 to 62\n",
      "Data columns (total 10 columns):\n",
      " #   Column             Non-Null Count  Dtype  \n",
      "---  ------             --------------  -----  \n",
      " 0   Name               63 non-null     object \n",
      " 1   Date               63 non-null     object \n",
      " 2   Day                63 non-null     object \n",
      " 3   Marital Status     59 non-null     float64\n",
      " 4   Your gender?       63 non-null     int64  \n",
      " 5   study hour         62 non-null     float64\n",
      " 6   your sleep hour?   63 non-null     int64  \n",
      " 7   weekend            63 non-null     int64  \n",
      " 8   what is your age?  63 non-null     int64  \n",
      " 9   what is your cgpa  63 non-null     object \n",
      "dtypes: float64(2), int64(4), object(4)\n",
      "memory usage: 5.0+ KB\n"
     ]
    }
   ],
   "source": [
    "df.info()"
   ]
  },
  {
   "cell_type": "code",
   "execution_count": 5,
   "id": "41ab9ea1",
   "metadata": {},
   "outputs": [],
   "source": [
    "# if you want to see who have null values\n",
    "#df[df['Marital Status'].isna()]\n",
    "\n",
    "# to replace with mean value"
   ]
  },
  {
   "cell_type": "code",
   "execution_count": 6,
   "id": "e62360be",
   "metadata": {},
   "outputs": [
    {
     "data": {
      "text/plain": [
       "Name                 0\n",
       "Date                 0\n",
       "Day                  0\n",
       "Marital Status       4\n",
       "Your gender?         0\n",
       "study hour           1\n",
       "your sleep hour?     0\n",
       "weekend              0\n",
       "what is your age?    0\n",
       "what is your cgpa    0\n",
       "dtype: int64"
      ]
     },
     "execution_count": 6,
     "metadata": {},
     "output_type": "execute_result"
    }
   ],
   "source": [
    "df.isnull().sum()"
   ]
  },
  {
   "cell_type": "code",
   "execution_count": 7,
   "id": "64f9f0fc",
   "metadata": {},
   "outputs": [],
   "source": [
    "#Remove all empty and null values\n",
    "df = df.dropna()"
   ]
  },
  {
   "cell_type": "code",
   "execution_count": 8,
   "id": "eb22aa49",
   "metadata": {},
   "outputs": [
    {
     "data": {
      "text/plain": [
       "Name                 0\n",
       "Date                 0\n",
       "Day                  0\n",
       "Marital Status       0\n",
       "Your gender?         0\n",
       "study hour           0\n",
       "your sleep hour?     0\n",
       "weekend              0\n",
       "what is your age?    0\n",
       "what is your cgpa    0\n",
       "dtype: int64"
      ]
     },
     "execution_count": 8,
     "metadata": {},
     "output_type": "execute_result"
    }
   ],
   "source": [
    "df.isnull().sum()"
   ]
  },
  {
   "cell_type": "code",
   "execution_count": 9,
   "id": "5ff0694e",
   "metadata": {},
   "outputs": [],
   "source": [
    "# Let's rename some columns\n",
    "df.rename(columns = {'Marital Status':'Marital_Status', 'Your gender?':'Gender', 'study hour':'Study_hours', 'your sleep hour?':'Sleep_hours', 'weekend':'Weekend', 'what is your age?':'Age', 'what is your cgpa':'CGPA'}, inplace = True)"
   ]
  },
  {
   "cell_type": "code",
   "execution_count": 10,
   "id": "626bfd8c",
   "metadata": {},
   "outputs": [
    {
     "data": {
      "text/html": [
       "<div>\n",
       "<style scoped>\n",
       "    .dataframe tbody tr th:only-of-type {\n",
       "        vertical-align: middle;\n",
       "    }\n",
       "\n",
       "    .dataframe tbody tr th {\n",
       "        vertical-align: top;\n",
       "    }\n",
       "\n",
       "    .dataframe thead th {\n",
       "        text-align: right;\n",
       "    }\n",
       "</style>\n",
       "<table border=\"1\" class=\"dataframe\">\n",
       "  <thead>\n",
       "    <tr style=\"text-align: right;\">\n",
       "      <th></th>\n",
       "      <th>Name</th>\n",
       "      <th>Date</th>\n",
       "      <th>Day</th>\n",
       "      <th>Marital_Status</th>\n",
       "      <th>Gender</th>\n",
       "      <th>Study_hours</th>\n",
       "      <th>Sleep_hours</th>\n",
       "      <th>Weekend</th>\n",
       "      <th>Age</th>\n",
       "      <th>CGPA</th>\n",
       "    </tr>\n",
       "  </thead>\n",
       "  <tbody>\n",
       "    <tr>\n",
       "      <th>0</th>\n",
       "      <td>Karim</td>\n",
       "      <td>28/6/2022</td>\n",
       "      <td>Sunday</td>\n",
       "      <td>1.0</td>\n",
       "      <td>1</td>\n",
       "      <td>4.0</td>\n",
       "      <td>6</td>\n",
       "      <td>0</td>\n",
       "      <td>23</td>\n",
       "      <td>3.00 - 3.49</td>\n",
       "    </tr>\n",
       "    <tr>\n",
       "      <th>1</th>\n",
       "      <td>Karim</td>\n",
       "      <td>29/6/2022</td>\n",
       "      <td>Monday</td>\n",
       "      <td>1.0</td>\n",
       "      <td>1</td>\n",
       "      <td>3.0</td>\n",
       "      <td>6</td>\n",
       "      <td>0</td>\n",
       "      <td>23</td>\n",
       "      <td>3.00 - 3.49</td>\n",
       "    </tr>\n",
       "    <tr>\n",
       "      <th>2</th>\n",
       "      <td>Karim</td>\n",
       "      <td>30/6/2022</td>\n",
       "      <td>Tuesday</td>\n",
       "      <td>1.0</td>\n",
       "      <td>1</td>\n",
       "      <td>3.0</td>\n",
       "      <td>7</td>\n",
       "      <td>0</td>\n",
       "      <td>23</td>\n",
       "      <td>3.00 - 3.49</td>\n",
       "    </tr>\n",
       "    <tr>\n",
       "      <th>3</th>\n",
       "      <td>Karim</td>\n",
       "      <td>1/7/2022</td>\n",
       "      <td>Wednesday</td>\n",
       "      <td>1.0</td>\n",
       "      <td>1</td>\n",
       "      <td>2.0</td>\n",
       "      <td>5</td>\n",
       "      <td>0</td>\n",
       "      <td>23</td>\n",
       "      <td>3.00 - 3.49</td>\n",
       "    </tr>\n",
       "    <tr>\n",
       "      <th>4</th>\n",
       "      <td>Karim</td>\n",
       "      <td>2/7/2022</td>\n",
       "      <td>Thursday</td>\n",
       "      <td>1.0</td>\n",
       "      <td>1</td>\n",
       "      <td>5.0</td>\n",
       "      <td>6</td>\n",
       "      <td>0</td>\n",
       "      <td>23</td>\n",
       "      <td>3.00 - 3.49</td>\n",
       "    </tr>\n",
       "  </tbody>\n",
       "</table>\n",
       "</div>"
      ],
      "text/plain": [
       "    Name       Date        Day  Marital_Status  Gender  Study_hours  \\\n",
       "0  Karim  28/6/2022     Sunday             1.0       1          4.0   \n",
       "1  Karim  29/6/2022     Monday             1.0       1          3.0   \n",
       "2  Karim  30/6/2022    Tuesday             1.0       1          3.0   \n",
       "3  Karim   1/7/2022  Wednesday             1.0       1          2.0   \n",
       "4  Karim   2/7/2022   Thursday             1.0       1          5.0   \n",
       "\n",
       "   Sleep_hours  Weekend  Age         CGPA  \n",
       "0            6        0   23  3.00 - 3.49  \n",
       "1            6        0   23  3.00 - 3.49  \n",
       "2            7        0   23  3.00 - 3.49  \n",
       "3            5        0   23  3.00 - 3.49  \n",
       "4            6        0   23  3.00 - 3.49  "
      ]
     },
     "execution_count": 10,
     "metadata": {},
     "output_type": "execute_result"
    }
   ],
   "source": [
    "df.head()"
   ]
  },
  {
   "cell_type": "code",
   "execution_count": 11,
   "id": "75b562bf",
   "metadata": {},
   "outputs": [
    {
     "name": "stdout",
     "output_type": "stream",
     "text": [
      "<class 'pandas.core.frame.DataFrame'>\n",
      "Int64Index: 58 entries, 0 to 60\n",
      "Data columns (total 10 columns):\n",
      " #   Column          Non-Null Count  Dtype  \n",
      "---  ------          --------------  -----  \n",
      " 0   Name            58 non-null     object \n",
      " 1   Date            58 non-null     object \n",
      " 2   Day             58 non-null     object \n",
      " 3   Marital_Status  58 non-null     float64\n",
      " 4   Gender          58 non-null     int64  \n",
      " 5   Study_hours     58 non-null     float64\n",
      " 6   Sleep_hours     58 non-null     int64  \n",
      " 7   Weekend         58 non-null     int64  \n",
      " 8   Age             58 non-null     int64  \n",
      " 9   CGPA            58 non-null     object \n",
      "dtypes: float64(2), int64(4), object(4)\n",
      "memory usage: 5.0+ KB\n"
     ]
    }
   ],
   "source": [
    "df.info()"
   ]
  },
  {
   "cell_type": "code",
   "execution_count": 12,
   "id": "8d8b8ee8",
   "metadata": {},
   "outputs": [
    {
     "data": {
      "text/plain": [
       "array([7, 5, 4], dtype=int64)"
      ]
     },
     "execution_count": 12,
     "metadata": {},
     "output_type": "execute_result"
    }
   ],
   "source": [
    "df['Name'].value_counts().unique()"
   ]
  },
  {
   "cell_type": "markdown",
   "id": "04290302",
   "metadata": {},
   "source": [
    "This analysis is a small sample analysis of only 7people."
   ]
  },
  {
   "cell_type": "markdown",
   "id": "a3c499cb",
   "metadata": {},
   "source": [
    "# EDA"
   ]
  },
  {
   "cell_type": "code",
   "execution_count": 13,
   "id": "9414777e",
   "metadata": {},
   "outputs": [
    {
     "data": {
      "text/plain": [
       "<AxesSubplot:ylabel='Marital_Status'>"
      ]
     },
     "execution_count": 13,
     "metadata": {},
     "output_type": "execute_result"
    },
    {
     "data": {
      "image/png": "[encoded data removed]",
      "text/plain": [
       "<Figure size 432x432 with 1 Axes>"
      ]
     },
     "metadata": {},
     "output_type": "display_data"
    }
   ],
   "source": [
    "import seaborn as sns\n",
    "import matplotlib.pyplot as plt\n",
    "\n",
    "df['Marital_Status'].value_counts().plot(kind = 'pie', figsize = (6,6))"
   ]
  },
  {
   "cell_type": "markdown",
   "id": "fdd86bad",
   "metadata": {},
   "source": [
    "Assuming that 1 - single, 2 - married. We see that we have more people who are single."
   ]
  },
  {
   "cell_type": "markdown",
   "id": "d2dd0990",
   "metadata": {},
   "source": [
    "# How does cgpa depend on Marital Status?"
   ]
  },
  {
   "cell_type": "code",
   "execution_count": 14,
   "id": "867beae8",
   "metadata": {},
   "outputs": [
    {
     "data": {
      "text/html": [
       "<div>\n",
       "<style scoped>\n",
       "    .dataframe tbody tr th:only-of-type {\n",
       "        vertical-align: middle;\n",
       "    }\n",
       "\n",
       "    .dataframe tbody tr th {\n",
       "        vertical-align: top;\n",
       "    }\n",
       "\n",
       "    .dataframe thead th {\n",
       "        text-align: right;\n",
       "    }\n",
       "</style>\n",
       "<table border=\"1\" class=\"dataframe\">\n",
       "  <thead>\n",
       "    <tr style=\"text-align: right;\">\n",
       "      <th></th>\n",
       "      <th>mean</th>\n",
       "    </tr>\n",
       "    <tr>\n",
       "      <th>CGPA</th>\n",
       "      <th></th>\n",
       "    </tr>\n",
       "  </thead>\n",
       "  <tbody>\n",
       "    <tr>\n",
       "      <th>2.00 - 2.49</th>\n",
       "      <td>1.666667</td>\n",
       "    </tr>\n",
       "    <tr>\n",
       "      <th>3.00 - 3.49</th>\n",
       "      <td>1.263158</td>\n",
       "    </tr>\n",
       "    <tr>\n",
       "      <th>3.50 - 4.00</th>\n",
       "      <td>1.000000</td>\n",
       "    </tr>\n",
       "  </tbody>\n",
       "</table>\n",
       "</div>"
      ],
      "text/plain": [
       "                 mean\n",
       "CGPA                 \n",
       "2.00 - 2.49  1.666667\n",
       "3.00 - 3.49  1.263158\n",
       "3.50 - 4.00  1.000000"
      ]
     },
     "execution_count": 14,
     "metadata": {},
     "output_type": "execute_result"
    }
   ],
   "source": [
    "df.groupby('CGPA')['Marital_Status'].agg(['mean'])"
   ]
  },
  {
   "cell_type": "code",
   "execution_count": 15,
   "id": "d6267c21",
   "metadata": {},
   "outputs": [
    {
     "data": {
      "text/plain": [
       "<AxesSubplot:xlabel='CGPA'>"
      ]
     },
     "execution_count": 15,
     "metadata": {},
     "output_type": "execute_result"
    },
    {
     "data": {
      "image/png": "[encoded data removed]",
      "text/plain": [
       "<Figure size 432x288 with 1 Axes>"
      ]
     },
     "metadata": {
      "needs_background": "light"
     },
     "output_type": "display_data"
    }
   ],
   "source": [
    "df.groupby('CGPA')['Marital_Status'].agg(['mean']).plot()"
   ]
  },
  {
   "cell_type": "markdown",
   "id": "081497b7",
   "metadata": {},
   "source": [
    "Let's assume that 1 - single, 2 - married. We see the dependence: unmarried people have a higher CGPA"
   ]
  },
  {
   "cell_type": "markdown",
   "id": "08da081a",
   "metadata": {},
   "source": [
    "# How does CGPA depend on gender ?"
   ]
  },
  {
   "cell_type": "code",
   "execution_count": 16,
   "id": "c3d8604b",
   "metadata": {},
   "outputs": [
    {
     "data": {
      "text/plain": [
       "array([<AxesSubplot:ylabel='count'>], dtype=object)"
      ]
     },
     "execution_count": 16,
     "metadata": {},
     "output_type": "execute_result"
    },
    {
     "data": {
      "image/png": "[encoded data removed]",
      "text/plain": [
       "<Figure size 432x288 with 1 Axes>"
      ]
     },
     "metadata": {},
     "output_type": "display_data"
    }
   ],
   "source": [
    "df.groupby('Gender')['Gender'].agg(['count']).plot.pie(subplots=True)"
   ]
  },
  {
   "cell_type": "markdown",
   "id": "9f71af8a",
   "metadata": {},
   "source": [
    "Assuming 1 - males , 2- female. We see that we have more females than males."
   ]
  },
  {
   "cell_type": "code",
   "execution_count": 22,
   "id": "1b6e2426",
   "metadata": {},
   "outputs": [],
   "source": [
    "T1=df[df['Gender']==1]"
   ]
  },
  {
   "cell_type": "code",
   "execution_count": 23,
   "id": "20cf846f",
   "metadata": {},
   "outputs": [
    {
     "data": {
      "text/plain": [
       "array([<AxesSubplot:ylabel='count'>], dtype=object)"
      ]
     },
     "execution_count": 23,
     "metadata": {},
     "output_type": "execute_result"
    },
    {
     "data": {
      "image/png": "[encoded data removed]",
      "text/plain": [
       "<Figure size 432x288 with 1 Axes>"
      ]
     },
     "metadata": {},
     "output_type": "display_data"
    }
   ],
   "source": [
    "T1.groupby('CGPA')['Gender'].agg(['count']).plot.pie(subplots=True)"
   ]
  },
  {
   "cell_type": "code",
   "execution_count": 24,
   "id": "39c50095",
   "metadata": {},
   "outputs": [],
   "source": [
    "T2=df[df['Gender']==2]"
   ]
  },
  {
   "cell_type": "code",
   "execution_count": 25,
   "id": "3b091621",
   "metadata": {},
   "outputs": [
    {
     "data": {
      "text/plain": [
       "array([<AxesSubplot:ylabel='count'>], dtype=object)"
      ]
     },
     "execution_count": 25,
     "metadata": {},
     "output_type": "execute_result"
    },
    {
     "data": {
      "image/png": "[encoded data removed]",
      "text/plain": [
       "<Figure size 432x288 with 1 Axes>"
      ]
     },
     "metadata": {},
     "output_type": "display_data"
    }
   ],
   "source": [
    "T2.groupby('CGPA',dropna=False)['Gender'].agg(['count']).plot.pie(subplots=True)"
   ]
  },
  {
   "cell_type": "markdown",
   "id": "87052e04",
   "metadata": {},
   "source": [
    "Women study more than men in this course but the rating of grades in men are better than in women."
   ]
  },
  {
   "cell_type": "markdown",
   "id": "eaf62ef9",
   "metadata": {},
   "source": [
    "# How does CGPA depend on sleep hours"
   ]
  },
  {
   "cell_type": "code",
   "execution_count": 27,
   "id": "8892556a",
   "metadata": {},
   "outputs": [
    {
     "data": {
      "text/html": [
       "<div>\n",
       "<style scoped>\n",
       "    .dataframe tbody tr th:only-of-type {\n",
       "        vertical-align: middle;\n",
       "    }\n",
       "\n",
       "    .dataframe tbody tr th {\n",
       "        vertical-align: top;\n",
       "    }\n",
       "\n",
       "    .dataframe thead th {\n",
       "        text-align: right;\n",
       "    }\n",
       "</style>\n",
       "<table border=\"1\" class=\"dataframe\">\n",
       "  <thead>\n",
       "    <tr style=\"text-align: right;\">\n",
       "      <th>Gender</th>\n",
       "      <th>1</th>\n",
       "      <th>2</th>\n",
       "    </tr>\n",
       "    <tr>\n",
       "      <th>CGPA</th>\n",
       "      <th></th>\n",
       "      <th></th>\n",
       "    </tr>\n",
       "  </thead>\n",
       "  <tbody>\n",
       "    <tr>\n",
       "      <th>2.00 - 2.49</th>\n",
       "      <td>NaN</td>\n",
       "      <td>5.809524</td>\n",
       "    </tr>\n",
       "    <tr>\n",
       "      <th>3.00 - 3.49</th>\n",
       "      <td>6.285714</td>\n",
       "      <td>6.000000</td>\n",
       "    </tr>\n",
       "    <tr>\n",
       "      <th>3.50 - 4.00</th>\n",
       "      <td>6.250000</td>\n",
       "      <td>6.642857</td>\n",
       "    </tr>\n",
       "  </tbody>\n",
       "</table>\n",
       "</div>"
      ],
      "text/plain": [
       "Gender              1         2\n",
       "CGPA                           \n",
       "2.00 - 2.49       NaN  5.809524\n",
       "3.00 - 3.49  6.285714  6.000000\n",
       "3.50 - 4.00  6.250000  6.642857"
      ]
     },
     "execution_count": 27,
     "metadata": {},
     "output_type": "execute_result"
    }
   ],
   "source": [
    "T3=df.pivot_table(index='CGPA', columns='Gender', values='Sleep_hours', aggfunc='mean')\n",
    "T3"
   ]
  },
  {
   "cell_type": "code",
   "execution_count": 29,
   "id": "49eec971",
   "metadata": {},
   "outputs": [
    {
     "data": {
      "text/plain": [
       "<AxesSubplot:xlabel='CGPA'>"
      ]
     },
     "execution_count": 29,
     "metadata": {},
     "output_type": "execute_result"
    },
    {
     "data": {
      "image/png": "[encoded data removed]",
      "text/plain": [
       "<Figure size 432x288 with 1 Axes>"
      ]
     },
     "metadata": {
      "needs_background": "light"
     },
     "output_type": "display_data"
    }
   ],
   "source": [
    "T3.plot.bar(stacked=True)"
   ]
  },
  {
   "cell_type": "markdown",
   "id": "fedb3c46",
   "metadata": {},
   "source": [
    "Students who slept more had better CGPA."
   ]
  },
  {
   "cell_type": "markdown",
   "id": "c9aed44b",
   "metadata": {},
   "source": [
    "# On which days did the students study more?"
   ]
  },
  {
   "cell_type": "code",
   "execution_count": 34,
   "id": "c63a8127",
   "metadata": {},
   "outputs": [
    {
     "data": {
      "text/html": [
       "<div>\n",
       "<style scoped>\n",
       "    .dataframe tbody tr th:only-of-type {\n",
       "        vertical-align: middle;\n",
       "    }\n",
       "\n",
       "    .dataframe tbody tr th {\n",
       "        vertical-align: top;\n",
       "    }\n",
       "\n",
       "    .dataframe thead th {\n",
       "        text-align: right;\n",
       "    }\n",
       "</style>\n",
       "<table border=\"1\" class=\"dataframe\">\n",
       "  <thead>\n",
       "    <tr style=\"text-align: right;\">\n",
       "      <th></th>\n",
       "      <th>mean</th>\n",
       "    </tr>\n",
       "    <tr>\n",
       "      <th>Day</th>\n",
       "      <th></th>\n",
       "    </tr>\n",
       "  </thead>\n",
       "  <tbody>\n",
       "    <tr>\n",
       "      <th>Friday</th>\n",
       "      <td>4.571429</td>\n",
       "    </tr>\n",
       "    <tr>\n",
       "      <th>Saturday</th>\n",
       "      <td>4.500000</td>\n",
       "    </tr>\n",
       "    <tr>\n",
       "      <th>Thursday</th>\n",
       "      <td>3.250000</td>\n",
       "    </tr>\n",
       "    <tr>\n",
       "      <th>Monday</th>\n",
       "      <td>3.000000</td>\n",
       "    </tr>\n",
       "    <tr>\n",
       "      <th>Sunday</th>\n",
       "      <td>2.666667</td>\n",
       "    </tr>\n",
       "    <tr>\n",
       "      <th>Tuesday</th>\n",
       "      <td>2.666667</td>\n",
       "    </tr>\n",
       "    <tr>\n",
       "      <th>Wednesday</th>\n",
       "      <td>2.500000</td>\n",
       "    </tr>\n",
       "  </tbody>\n",
       "</table>\n",
       "</div>"
      ],
      "text/plain": [
       "               mean\n",
       "Day                \n",
       "Friday     4.571429\n",
       "Saturday   4.500000\n",
       "Thursday   3.250000\n",
       "Monday     3.000000\n",
       "Sunday     2.666667\n",
       "Tuesday    2.666667\n",
       "Wednesday  2.500000"
      ]
     },
     "execution_count": 34,
     "metadata": {},
     "output_type": "execute_result"
    }
   ],
   "source": [
    "T4=df.groupby('Day')['Study_hours'].agg(['mean'])\n",
    "T4.sort_values('mean',ascending=False)"
   ]
  },
  {
   "cell_type": "markdown",
   "id": "c0376f22",
   "metadata": {},
   "source": [
    "Students study  more on Fridays and Saturdays."
   ]
  },
  {
   "cell_type": "markdown",
   "id": "a642ece5",
   "metadata": {},
   "source": [
    "# Students perfomance."
   ]
  },
  {
   "cell_type": "code",
   "execution_count": 36,
   "id": "74fb438f",
   "metadata": {},
   "outputs": [
    {
     "data": {
      "text/html": [
       "<div>\n",
       "<style scoped>\n",
       "    .dataframe tbody tr th:only-of-type {\n",
       "        vertical-align: middle;\n",
       "    }\n",
       "\n",
       "    .dataframe tbody tr th {\n",
       "        vertical-align: top;\n",
       "    }\n",
       "\n",
       "    .dataframe thead th {\n",
       "        text-align: right;\n",
       "    }\n",
       "</style>\n",
       "<table border=\"1\" class=\"dataframe\">\n",
       "  <thead>\n",
       "    <tr style=\"text-align: right;\">\n",
       "      <th></th>\n",
       "      <th></th>\n",
       "      <th>Marital_Status</th>\n",
       "      <th>Gender</th>\n",
       "      <th>Study_hours</th>\n",
       "      <th>Sleep_hours</th>\n",
       "      <th>Weekend</th>\n",
       "      <th>Age</th>\n",
       "    </tr>\n",
       "    <tr>\n",
       "      <th>Name</th>\n",
       "      <th>CGPA</th>\n",
       "      <th></th>\n",
       "      <th></th>\n",
       "      <th></th>\n",
       "      <th></th>\n",
       "      <th></th>\n",
       "      <th></th>\n",
       "    </tr>\n",
       "  </thead>\n",
       "  <tbody>\n",
       "    <tr>\n",
       "      <th>Faiza</th>\n",
       "      <th>3.50 - 4.00</th>\n",
       "      <td>1.0</td>\n",
       "      <td>2.0</td>\n",
       "      <td>3.000000</td>\n",
       "      <td>6.428571</td>\n",
       "      <td>0.285714</td>\n",
       "      <td>23.0</td>\n",
       "    </tr>\n",
       "    <tr>\n",
       "      <th>Rodela</th>\n",
       "      <th>3.50 - 4.00</th>\n",
       "      <td>1.0</td>\n",
       "      <td>2.0</td>\n",
       "      <td>4.428571</td>\n",
       "      <td>6.857143</td>\n",
       "      <td>0.285714</td>\n",
       "      <td>23.0</td>\n",
       "    </tr>\n",
       "    <tr>\n",
       "      <th>Sakif</th>\n",
       "      <th>3.50 - 4.00</th>\n",
       "      <td>1.0</td>\n",
       "      <td>1.0</td>\n",
       "      <td>2.750000</td>\n",
       "      <td>6.250000</td>\n",
       "      <td>0.000000</td>\n",
       "      <td>21.0</td>\n",
       "    </tr>\n",
       "    <tr>\n",
       "      <th>Karim</th>\n",
       "      <th>3.00 - 3.49</th>\n",
       "      <td>1.0</td>\n",
       "      <td>1.0</td>\n",
       "      <td>4.000000</td>\n",
       "      <td>6.285714</td>\n",
       "      <td>0.285714</td>\n",
       "      <td>23.0</td>\n",
       "    </tr>\n",
       "    <tr>\n",
       "      <th>Sanzida</th>\n",
       "      <th>3.00 - 3.49</th>\n",
       "      <td>1.0</td>\n",
       "      <td>2.0</td>\n",
       "      <td>3.000000</td>\n",
       "      <td>6.000000</td>\n",
       "      <td>0.285714</td>\n",
       "      <td>21.0</td>\n",
       "    </tr>\n",
       "    <tr>\n",
       "      <th>Tahmina</th>\n",
       "      <th>3.00 - 3.49</th>\n",
       "      <td>2.0</td>\n",
       "      <td>2.0</td>\n",
       "      <td>2.000000</td>\n",
       "      <td>6.000000</td>\n",
       "      <td>0.200000</td>\n",
       "      <td>22.0</td>\n",
       "    </tr>\n",
       "    <tr>\n",
       "      <th>Mariam</th>\n",
       "      <th>2.00 - 2.49</th>\n",
       "      <td>2.0</td>\n",
       "      <td>2.0</td>\n",
       "      <td>2.428571</td>\n",
       "      <td>6.000000</td>\n",
       "      <td>0.285714</td>\n",
       "      <td>22.0</td>\n",
       "    </tr>\n",
       "    <tr>\n",
       "      <th>Ritu</th>\n",
       "      <th>2.00 - 2.49</th>\n",
       "      <td>1.0</td>\n",
       "      <td>2.0</td>\n",
       "      <td>5.000000</td>\n",
       "      <td>5.857143</td>\n",
       "      <td>0.285714</td>\n",
       "      <td>24.0</td>\n",
       "    </tr>\n",
       "    <tr>\n",
       "      <th>Roshni</th>\n",
       "      <th>2.00 - 2.49</th>\n",
       "      <td>2.0</td>\n",
       "      <td>2.0</td>\n",
       "      <td>2.142857</td>\n",
       "      <td>5.571429</td>\n",
       "      <td>0.285714</td>\n",
       "      <td>23.0</td>\n",
       "    </tr>\n",
       "  </tbody>\n",
       "</table>\n",
       "</div>"
      ],
      "text/plain": [
       "                     Marital_Status  Gender  Study_hours  Sleep_hours  \\\n",
       "Name    CGPA                                                            \n",
       "Faiza   3.50 - 4.00             1.0     2.0     3.000000     6.428571   \n",
       "Rodela  3.50 - 4.00             1.0     2.0     4.428571     6.857143   \n",
       "Sakif   3.50 - 4.00             1.0     1.0     2.750000     6.250000   \n",
       "Karim   3.00 - 3.49             1.0     1.0     4.000000     6.285714   \n",
       "Sanzida 3.00 - 3.49             1.0     2.0     3.000000     6.000000   \n",
       "Tahmina 3.00 - 3.49             2.0     2.0     2.000000     6.000000   \n",
       "Mariam  2.00 - 2.49             2.0     2.0     2.428571     6.000000   \n",
       "Ritu    2.00 - 2.49             1.0     2.0     5.000000     5.857143   \n",
       "Roshni  2.00 - 2.49             2.0     2.0     2.142857     5.571429   \n",
       "\n",
       "                      Weekend   Age  \n",
       "Name    CGPA                         \n",
       "Faiza   3.50 - 4.00  0.285714  23.0  \n",
       "Rodela  3.50 - 4.00  0.285714  23.0  \n",
       "Sakif   3.50 - 4.00  0.000000  21.0  \n",
       "Karim   3.00 - 3.49  0.285714  23.0  \n",
       "Sanzida 3.00 - 3.49  0.285714  21.0  \n",
       "Tahmina 3.00 - 3.49  0.200000  22.0  \n",
       "Mariam  2.00 - 2.49  0.285714  22.0  \n",
       "Ritu    2.00 - 2.49  0.285714  24.0  \n",
       "Roshni  2.00 - 2.49  0.285714  23.0  "
      ]
     },
     "execution_count": 36,
     "metadata": {},
     "output_type": "execute_result"
    }
   ],
   "source": [
    "T5=df.groupby(['Name','CGPA']).mean().sort_values('CGPA',ascending=False)\n",
    "T5"
   ]
  },
  {
   "cell_type": "markdown",
   "id": "a7630888",
   "metadata": {},
   "source": [
    "3 best students are Faiza ,Rodela and Sakif.\n",
    "Ritu and Roshni sleep less but their grades are poor."
   ]
  },
  {
   "cell_type": "markdown",
   "id": "31d9249f",
   "metadata": {},
   "source": [
    "# Conclusion"
   ]
  },
  {
   "cell_type": "markdown",
   "id": "b300c741",
   "metadata": {},
   "source": [
    "1. Unmarried people have a higher CGPA than married people.\n",
    "2. There are more women in the group observed and women study more than men . But men have better than in women.\n",
    "3. СGPA does not depend on the study hour.\n",
    "4. Students spent more time on studying on Saturday and Friday.\n",
    "5. Students who slept more had better CGPA."
   ]
  },
  {
   "cell_type": "code",
   "execution_count": 38,
   "id": "49d6e420",
   "metadata": {},
   "outputs": [],
   "source": [
    "# saving the dataframe\n",
    "df.to_csv('Study Analysis')\n"
   ]
  },
  {
   "cell_type": "code",
   "execution_count": null,
   "id": "fcc6e0f3",
   "metadata": {},
   "outputs": [],
   "source": []
  }
 ],
 "metadata": {
  "kernelspec": {
   "display_name": "Python 3 (ipykernel)",
   "language": "python",
   "name": "python3"
  },
  "language_info": {
   "codemirror_mode": {
    "name": "ipython",
    "version": 3
   },
   "file_extension": ".py",
   "mimetype": "text/x-python",
   "name": "python",
   "nbconvert_exporter": "python",
   "pygments_lexer": "ipython3",
   "version": "3.9.7"
  }
 },
 "nbformat": 4,
 "nbformat_minor": 5
}
